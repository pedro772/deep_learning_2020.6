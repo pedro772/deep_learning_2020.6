{
  "nbformat": 4,
  "nbformat_minor": 0,
  "metadata": {
    "colab": {
      "name": "lista3_DL.ipynb",
      "provenance": [],
      "mount_file_id": "1fWgkgqKhryzXWr8TUUBwwCKD1D-ZF6jh",
      "authorship_tag": "ABX9TyMa5hgbFl6y9UbvIEwKiLPJ",
      "include_colab_link": true
    },
    "kernelspec": {
      "name": "python3",
      "display_name": "Python 3"
    }
  },
  "cells": [
    {
      "cell_type": "markdown",
      "metadata": {
        "id": "view-in-github",
        "colab_type": "text"
      },
      "source": [
        "<a href=\"https://colab.research.google.com/github/pedro772/deep_learning_2020.6/blob/main/lista3_DL.ipynb\" target=\"_parent\"><img src=\"https://colab.research.google.com/assets/colab-badge.svg\" alt=\"Open In Colab\"/></a>"
      ]
    },
    {
      "cell_type": "code",
      "metadata": {
        "id": "Oe9opQvm968C"
      },
      "source": [
        "# Importa a biblioteca Pandas\n",
        "import pandas as pd\n",
        "\n",
        "# Cria as listas de nomes, idades e salários\n",
        "names = []\n",
        "ages = []\n",
        "salaries = []\n",
        "\n",
        "# Preenche as listas criadas anteriormente com dados fornecidos pelo usuário\n",
        "for i in range(20):\n",
        "  name = input('Digite o seu nome: ')\n",
        "  names.append(name)\n",
        "  age = input('Digite a sua idade: ')\n",
        "  ages.append(age)\n",
        "  salary = input('Digite o seu salário: ')\n",
        "  salaries.append(salary)\n",
        "\n",
        "# Converte as listas já preenchidas para tuples (tendo em vista que dicionários não suportam listas)\n",
        "t_names = tuple(names)\n",
        "t_ages = tuple(ages)\n",
        "t_salaries = tuple(salaries)\n",
        "\n",
        "# Cria o dicionário com todos os dados para gerar o data frame\n",
        "data = {\n",
        "    'Name': t_names,\n",
        "    'Age': t_ages,\n",
        "    'Salary': t_salaries\n",
        "}\n",
        "\n",
        "# Gera o data frame usando Pandas\n",
        "df = pd.DataFrame(data)\n",
        "\n",
        "# Converte o data frame para um arquivo .csv\n",
        "df.to_csv('/content/drive/My Drive/Colab Notebooks/workers.csv')"
      ],
      "execution_count": null,
      "outputs": []
    },
    {
      "cell_type": "code",
      "metadata": {
        "id": "We2cdGYDVXLd",
        "outputId": "0d812a8c-eed6-4fbb-a9e4-4607f1245eb3",
        "colab": {
          "base_uri": "https://localhost:8080/",
          "height": 969
        }
      },
      "source": [
        "# Importa novamente a biblioteca Pandas, após reiniciar a sessão no colab\n",
        "import pandas as pd\n",
        "\n",
        "# Obtêm os dados do arquivo .csv gerado anteriormente usando Pandas\n",
        "csv_data = pd.read_csv('/content/drive/My Drive/Colab Notebooks/workers.csv')\n",
        "\n",
        "# Cria a função para pesquisar um trabalhador pelo seu nome\n",
        "def search_by_name():\n",
        "  search = input('Digite o nome que você quer procurar: ')\n",
        "\n",
        "  mask = csv_data['Name'].values == search\n",
        "  print(csv_data[mask])\n",
        "\n",
        "# Chama a função para pesquisar por nome\n",
        "search_by_name()\n",
        "\n",
        "# Cria a função para adicionar um novo trabalhador ao conjunto de dados\n",
        "def add_to_dataframe():\n",
        "  new_name = input('Digite o nome a ser adicionado: ')\n",
        "  new_age = input('Digite a idade a ser adicionada: ')\n",
        "  new_salary = input('Digite o salário a ser adicionado: ')\n",
        "\n",
        "  new_df = pd.DataFrame({\"Name\": [new_name],\n",
        "                      \"Age\": [new_age],\n",
        "                      \"Salary\": [new_salary]})\n",
        "  \n",
        "  return csv_data.append(new_df, ignore_index=True)\n",
        "\n",
        "# Atualiza o data frame usando a função para adicionar um novo trabalhador\n",
        "csv_data = add_to_dataframe()\n",
        "print(csv_data)\n",
        "\n",
        "# Cria a função para remover um trabalhador do conjunto de dados\n",
        "def remove_from_df():\n",
        "  removed_person = input('Digite o nome a ser retirado: ')\n",
        "\n",
        "  return csv_data[csv_data.Name != removed_person]\n",
        "\n",
        "# Atualiza o data frame usando a função para remover um trabalhador\n",
        "csv_data = remove_from_df()\n",
        "print(csv_data)"
      ],
      "execution_count": 47,
      "outputs": [
        {
          "output_type": "stream",
          "text": [
            "Digite o nome que você quer procurar: Michael Scott\n",
            "   Unnamed: 0  Unnamed: 0.1  Unnamed: 0.1.1  ...           Name  Age Salary\n",
            "0           0             0             0.0  ...  Michael Scott   45  60000\n",
            "\n",
            "[1 rows x 8 columns]\n",
            "Digite o nome a ser adicionado: Jo Bennett\n",
            "Digite a idade a ser adicionada: 60\n",
            "Digite o salário a ser adicionado: 150000\n",
            "    Unnamed: 0  Unnamed: 0.1  Unnamed: 0.1.1  ...               Name  Age  Salary\n",
            "0          0.0           0.0             0.0  ...      Michael Scott   45   60000\n",
            "1          1.0           1.0             1.0  ...        Jim Halpert   25   45000\n",
            "2          2.0           2.0             2.0  ...         Pam Beesly   25   35000\n",
            "3          3.0           3.0             3.0  ...     Dwight Schrute   30   45000\n",
            "4          4.0           4.0             4.0  ...        Ryan Howard   22   20000\n",
            "5          5.0           5.0             5.0  ...       Andy Bernard   30   45000\n",
            "6          6.0           6.0             6.0  ...  Robert California   50  100000\n",
            "7          7.0           7.0             7.0  ...       Jan Levinson   40  100000\n",
            "8          8.0           8.0             8.0  ...       Roy Anderson   28   30000\n",
            "9          9.0           9.0             9.0  ...     Stanley Hudson   60   45000\n",
            "10        10.0          10.0            10.0  ...       Kevin Malone   45   40000\n",
            "11        11.0          11.0            11.0  ...      Angela Martin   30   50000\n",
            "12        12.0          12.0            12.0  ...     Oscar Martinez   35   50000\n",
            "13        13.0          13.0            13.0  ...      Phyllis Vance   50   42000\n",
            "14        14.0          14.0            14.0  ...    Toby Flenderson   35   35000\n",
            "15        15.0          15.0            15.0  ...       Kelly Kapoor   27   35000\n",
            "16        16.0          16.0            16.0  ...      Creed Bratton   75   35000\n",
            "17        17.0          17.0            17.0  ...     Darryl Philbin   28   30000\n",
            "18        18.0          18.0            18.0  ...        Erin Hannon   26   32000\n",
            "19        19.0          19.0            19.0  ...         Gabe Lewis   25   60000\n",
            "20         NaN           NaN             NaN  ...         Jo Bennett   60  150000\n",
            "\n",
            "[21 rows x 8 columns]\n",
            "Digite o nome a ser retirado: Jo Bennett\n",
            "    Unnamed: 0  Unnamed: 0.1  Unnamed: 0.1.1  ...               Name  Age  Salary\n",
            "0          0.0           0.0             0.0  ...      Michael Scott   45   60000\n",
            "1          1.0           1.0             1.0  ...        Jim Halpert   25   45000\n",
            "2          2.0           2.0             2.0  ...         Pam Beesly   25   35000\n",
            "3          3.0           3.0             3.0  ...     Dwight Schrute   30   45000\n",
            "4          4.0           4.0             4.0  ...        Ryan Howard   22   20000\n",
            "5          5.0           5.0             5.0  ...       Andy Bernard   30   45000\n",
            "6          6.0           6.0             6.0  ...  Robert California   50  100000\n",
            "7          7.0           7.0             7.0  ...       Jan Levinson   40  100000\n",
            "8          8.0           8.0             8.0  ...       Roy Anderson   28   30000\n",
            "9          9.0           9.0             9.0  ...     Stanley Hudson   60   45000\n",
            "10        10.0          10.0            10.0  ...       Kevin Malone   45   40000\n",
            "11        11.0          11.0            11.0  ...      Angela Martin   30   50000\n",
            "12        12.0          12.0            12.0  ...     Oscar Martinez   35   50000\n",
            "13        13.0          13.0            13.0  ...      Phyllis Vance   50   42000\n",
            "14        14.0          14.0            14.0  ...    Toby Flenderson   35   35000\n",
            "15        15.0          15.0            15.0  ...       Kelly Kapoor   27   35000\n",
            "16        16.0          16.0            16.0  ...      Creed Bratton   75   35000\n",
            "17        17.0          17.0            17.0  ...     Darryl Philbin   28   30000\n",
            "18        18.0          18.0            18.0  ...        Erin Hannon   26   32000\n",
            "19        19.0          19.0            19.0  ...         Gabe Lewis   25   60000\n",
            "\n",
            "[20 rows x 8 columns]\n"
          ],
          "name": "stdout"
        }
      ]
    },
    {
      "cell_type": "code",
      "metadata": {
        "id": "zjI0lKVk26Mm",
        "outputId": "ec686890-0780-4569-f32c-8f4f3bbec11c",
        "colab": {
          "base_uri": "https://localhost:8080/",
          "height": 703
        }
      },
      "source": [
        "# Importa as bibliotecas Numpy e Matplotlib\n",
        "import numpy as np\n",
        "import matplotlib.pyplot as plt\n",
        "\n",
        "# Armazena os salários de todos os trabalhadores\n",
        "salaries = csv_data[\"Salary\"]\n",
        "\n",
        "# Calcula a média dos salários\n",
        "salaries_mean = salaries.mean()\n",
        "\n",
        "# Calcula o desvio padrão dos salários\n",
        "salaries_stdev = np.std(salaries)\n",
        "\n",
        "# Exibe o resultado dos passos feitos anteriormente\n",
        "print(salaries)\n",
        "print(salaries_mean)\n",
        "print(salaries_stdev)\n",
        "\n",
        "# Armazena as idades de todos os trabalhadores\n",
        "ages = csv_data[\"Age\"]\n",
        "\n",
        "# Faz o gráfico tipo scatter para mostrar a dispersão entre salário e idade de cada trabalhador\n",
        "fig = plt.figure(facecolor='white')\n",
        "plt.scatter(ages, salaries, marker='.', color='b')\n",
        "plt.title(\"Scatter Plot\")\n",
        "plt.xlabel(\"Idade (Anos)\")\n",
        "plt.ylabel(\"Salário anual (US$)\")"
      ],
      "execution_count": 48,
      "outputs": [
        {
          "output_type": "stream",
          "text": [
            "0      60000\n",
            "1      45000\n",
            "2      35000\n",
            "3      45000\n",
            "4      20000\n",
            "5      45000\n",
            "6     100000\n",
            "7     100000\n",
            "8      30000\n",
            "9      45000\n",
            "10     40000\n",
            "11     50000\n",
            "12     50000\n",
            "13     42000\n",
            "14     35000\n",
            "15     35000\n",
            "16     35000\n",
            "17     30000\n",
            "18     32000\n",
            "19     60000\n",
            "Name: Salary, dtype: object\n",
            "46700.0\n",
            "20211.630315241768\n"
          ],
          "name": "stdout"
        },
        {
          "output_type": "execute_result",
          "data": {
            "text/plain": [
              "Text(0, 0.5, 'Salário anual (US$)')"
            ]
          },
          "metadata": {
            "tags": []
          },
          "execution_count": 48
        },
        {
          "output_type": "display_data",
          "data": {
            "image/png": "[encoded data removed]",
            "text/plain": [
              "<Figure size 432x288 with 1 Axes>"
            ]
          },
          "metadata": {
            "tags": []
          }
        }
      ]
    }
  ]
}